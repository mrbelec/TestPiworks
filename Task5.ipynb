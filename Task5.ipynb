{
 "cells": [
  {
   "cell_type": "code",
   "execution_count": 1,
   "id": "76597420-799d-4f1e-b081-50c63b84acc8",
   "metadata": {},
   "outputs": [],
   "source": [
    "import numpy as np\n",
    "import pandas as pd\n",
    "\n",
    "import matplotlib.pyplot as plt\n",
    "import seaborn as sns\n",
    "\n",
    "import plotly \n",
    "import plotly.graph_objs as go\n",
    "import plotly.express as px\n",
    "\n",
    "import warnings\n",
    "warnings.filterwarnings(\"ignore\")"
   ]
  },
  {
   "cell_type": "code",
   "execution_count": 2,
   "id": "64e7f3e5-9e92-4309-bdfa-18c357301dad",
   "metadata": {},
   "outputs": [
    {
     "data": {
      "text/html": [
       "<div>\n",
       "<style scoped>\n",
       "    .dataframe tbody tr th:only-of-type {\n",
       "        vertical-align: middle;\n",
       "    }\n",
       "\n",
       "    .dataframe tbody tr th {\n",
       "        vertical-align: top;\n",
       "    }\n",
       "\n",
       "    .dataframe thead th {\n",
       "        text-align: right;\n",
       "    }\n",
       "</style>\n",
       "<table border=\"1\" class=\"dataframe\">\n",
       "  <thead>\n",
       "    <tr style=\"text-align: right;\">\n",
       "      <th></th>\n",
       "      <th>country</th>\n",
       "      <th>date</th>\n",
       "      <th>daily_vaccinations</th>\n",
       "      <th>vaccines</th>\n",
       "    </tr>\n",
       "  </thead>\n",
       "  <tbody>\n",
       "    <tr>\n",
       "      <th>0</th>\n",
       "      <td>Argentina</td>\n",
       "      <td>12/29/2020</td>\n",
       "      <td>NaN</td>\n",
       "      <td>Sputnik V</td>\n",
       "    </tr>\n",
       "    <tr>\n",
       "      <th>1</th>\n",
       "      <td>Argentina</td>\n",
       "      <td>12/30/2020</td>\n",
       "      <td>15656.0</td>\n",
       "      <td>Sputnik V</td>\n",
       "    </tr>\n",
       "    <tr>\n",
       "      <th>2</th>\n",
       "      <td>Argentina</td>\n",
       "      <td>12/31/2020</td>\n",
       "      <td>15656.0</td>\n",
       "      <td>Sputnik V</td>\n",
       "    </tr>\n",
       "    <tr>\n",
       "      <th>3</th>\n",
       "      <td>Argentina</td>\n",
       "      <td>1/1/2021</td>\n",
       "      <td>11070.0</td>\n",
       "      <td>Sputnik V</td>\n",
       "    </tr>\n",
       "    <tr>\n",
       "      <th>4</th>\n",
       "      <td>Argentina</td>\n",
       "      <td>1/2/2021</td>\n",
       "      <td>8776.0</td>\n",
       "      <td>Sputnik V</td>\n",
       "    </tr>\n",
       "  </tbody>\n",
       "</table>\n",
       "</div>"
      ],
      "text/plain": [
       "     country        date  daily_vaccinations   vaccines\n",
       "0  Argentina  12/29/2020 NaN                  Sputnik V\n",
       "1  Argentina  12/30/2020  15656.0             Sputnik V\n",
       "2  Argentina  12/31/2020  15656.0             Sputnik V\n",
       "3  Argentina  1/1/2021    11070.0             Sputnik V\n",
       "4  Argentina  1/2/2021    8776.0              Sputnik V"
      ]
     },
     "execution_count": 2,
     "metadata": {},
     "output_type": "execute_result"
    }
   ],
   "source": [
    "pd.set_option('display.max_rows', None)\n",
    "pd.set_option('display.max_columns', None)\n",
    "pd.set_option('display.width', None)\n",
    "pd.set_option('display.max_colwidth', -1)\n",
    "\n",
    "df = pd.read_csv(\"https://bit.ly/3hKIspT\")\n",
    "df.head()"
   ]
  },
  {
   "cell_type": "code",
   "execution_count": 3,
   "id": "32b1e2af-504d-45a6-9209-aefb97f03a61",
   "metadata": {},
   "outputs": [
    {
     "name": "stdout",
     "output_type": "stream",
     "text": [
      "Rows: 1502 \tColumns: 4\n",
      "Features : \n",
      " ['country', 'date', 'daily_vaccinations', 'vaccines']\n",
      "Missing values :   60\n",
      "\n",
      "Unique values :  \n",
      " country               60  \n",
      "date                  44  \n",
      "daily_vaccinations    1224\n",
      "vaccines              10  \n",
      "dtype: int64\n"
     ]
    }
   ],
   "source": [
    "print (\"Rows:\", df.shape[0], \"\\tColumns:\", df.shape[1]) # printing Rows & Columns numbers\n",
    "print (\"Features : \\n\" ,df.columns.tolist()) # Printing name of features\n",
    "\n",
    "print (\"Missing values :  \", df['daily_vaccinations'].isnull().sum()) # Checking missing values\n",
    "print (\"\\nUnique values :  \\n\",df.nunique()) # Unique values in each columns"
   ]
  },
  {
   "cell_type": "code",
   "execution_count": 4,
   "id": "8edecfdf-04da-40df-97c8-c930e1476de8",
   "metadata": {},
   "outputs": [
    {
     "name": "stdout",
     "output_type": "stream",
     "text": [
      "\n",
      "Missing values :   1\n"
     ]
    }
   ],
   "source": [
    "# Groupine per countries, calculate minimum values and then repalce the Nan values with their min values \n",
    "df['daily_vaccinations'] = df['daily_vaccinations'].fillna(df.groupby('country')['daily_vaccinations'].transform('min'))\n",
    "print (\"\\nMissing values :  \", df['daily_vaccinations'].isnull().sum()) # Again, checking missing values"
   ]
  },
  {
   "cell_type": "code",
   "execution_count": 5,
   "id": "07bedb6f-8aef-425c-a8c3-1c139ef50156",
   "metadata": {},
   "outputs": [
    {
     "name": "stdout",
     "output_type": "stream",
     "text": [
      "\n",
      "Missing values :   0\n"
     ]
    }
   ],
   "source": [
    "# One missing country which has no record of vaccination\n",
    "df['daily_vaccinations']=df['daily_vaccinations'].fillna(float(0), inplace = False)\n",
    "print (\"\\nMissing values :  \", df['daily_vaccinations'].isnull().sum()) # finall, checking missing values"
   ]
  },
  {
   "cell_type": "code",
   "execution_count": 6,
   "id": "92a9d49c-3b15-4719-a003-e3e0a8167128",
   "metadata": {},
   "outputs": [],
   "source": [
    "gropMedia = df.groupby('country', as_index=False)['daily_vaccinations'].median()"
   ]
  },
  {
   "cell_type": "code",
   "execution_count": 35,
   "id": "c4d96ddd-3f0c-4ab8-9290-a09c794c10d0",
   "metadata": {},
   "outputs": [
    {
     "name": "stdout",
     "output_type": "stream",
     "text": [
      "          country  daily_vaccinations\n",
      "58  United States  378253.0          \n",
      "8   China          276786.0          \n",
      "24  India          173922.0          \n"
     ]
    }
   ],
   "source": [
    "print(gropMedia.sort_values(by='daily_vaccinations',ascending=False)[0:3])"
   ]
  }
 ],
 "metadata": {
  "kernelspec": {
   "display_name": "Python 3 (ipykernel)",
   "language": "python",
   "name": "python3"
  },
  "language_info": {
   "codemirror_mode": {
    "name": "ipython",
    "version": 3
   },
   "file_extension": ".py",
   "mimetype": "text/x-python",
   "name": "python",
   "nbconvert_exporter": "python",
   "pygments_lexer": "ipython3",
   "version": "3.8.0"
  }
 },
 "nbformat": 4,
 "nbformat_minor": 5
}
