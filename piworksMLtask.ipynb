{
 "cells": [
  {
   "cell_type": "code",
   "execution_count": null,
   "id": "8ad716c1-937c-42e8-9913-bb43add95ec6",
   "metadata": {},
   "outputs": [],
   "source": [
    "# pip install matplotlib"
   ]
  },
  {
   "cell_type": "code",
   "execution_count": null,
   "id": "ef67e950-1962-4489-8ef1-7059663e39f9",
   "metadata": {},
   "outputs": [],
   "source": [
    "#pip install seaborn"
   ]
  },
  {
   "cell_type": "code",
   "execution_count": null,
   "id": "e0a2c637-39d8-4e00-9010-3b68dafa84e8",
   "metadata": {},
   "outputs": [],
   "source": [
    "#pip install plotly"
   ]
  },
  {
   "cell_type": "markdown",
   "id": "805ce551-93cc-4f11-b8c7-811e07f367d3",
   "metadata": {
    "tags": []
   },
   "source": [
    "# import libraries"
   ]
  },
  {
   "cell_type": "code",
   "execution_count": 1,
   "id": "80370ddb-9242-4b24-af97-44b94886eb54",
   "metadata": {},
   "outputs": [],
   "source": [
    "import pandas as pd\n",
    "import numpy as np\n",
    "import matplotlib.pylab as plt\n",
    "import seaborn as sns\n",
    "import plotly \n",
    "import plotly.graph_objs as go\n",
    "import plotly.express as px\n",
    "###############################\n",
    "import warnings\n",
    "warnings.filterwarnings(\"ignore\")\n",
    "%matplotlib inline\n",
    "###############\n",
    "pd.set_option('display.max_rows', None)\n",
    "pd.set_option('display.max_columns', None)\n",
    "pd.set_option('display.width', None)\n",
    "pd.set_option('display.max_colwidth', -1)"
   ]
  },
  {
   "cell_type": "markdown",
   "id": "cf4d689e-aa24-4885-b891-320cc95f3581",
   "metadata": {},
   "source": [
    "# Read data and print types and head"
   ]
  },
  {
   "cell_type": "code",
   "execution_count": 2,
   "id": "d359794c-8954-4e57-a851-bddb7b38ed8b",
   "metadata": {},
   "outputs": [
    {
     "name": "stdout",
     "output_type": "stream",
     "text": [
      "\n",
      " Data Types:\n",
      "timestamp          object\n",
      "municipality_id    int64 \n",
      "usage              int64 \n",
      "total_capacity     int64 \n",
      "dtype: object\n"
     ]
    },
    {
     "data": {
      "text/html": [
       "<div>\n",
       "<style scoped>\n",
       "    .dataframe tbody tr th:only-of-type {\n",
       "        vertical-align: middle;\n",
       "    }\n",
       "\n",
       "    .dataframe tbody tr th {\n",
       "        vertical-align: top;\n",
       "    }\n",
       "\n",
       "    .dataframe thead th {\n",
       "        text-align: right;\n",
       "    }\n",
       "</style>\n",
       "<table border=\"1\" class=\"dataframe\">\n",
       "  <thead>\n",
       "    <tr style=\"text-align: right;\">\n",
       "      <th></th>\n",
       "      <th>timestamp</th>\n",
       "      <th>municipality_id</th>\n",
       "      <th>usage</th>\n",
       "      <th>total_capacity</th>\n",
       "    </tr>\n",
       "  </thead>\n",
       "  <tbody>\n",
       "    <tr>\n",
       "      <th>0</th>\n",
       "      <td>2017-06-04 07:59:42</td>\n",
       "      <td>9</td>\n",
       "      <td>454</td>\n",
       "      <td>1332</td>\n",
       "    </tr>\n",
       "    <tr>\n",
       "      <th>1</th>\n",
       "      <td>2017-06-04 07:59:42</td>\n",
       "      <td>8</td>\n",
       "      <td>556</td>\n",
       "      <td>2947</td>\n",
       "    </tr>\n",
       "    <tr>\n",
       "      <th>2</th>\n",
       "      <td>2017-06-04 07:59:42</td>\n",
       "      <td>4</td>\n",
       "      <td>1090</td>\n",
       "      <td>3893</td>\n",
       "    </tr>\n",
       "    <tr>\n",
       "      <th>3</th>\n",
       "      <td>2017-06-04 07:59:42</td>\n",
       "      <td>0</td>\n",
       "      <td>204</td>\n",
       "      <td>2813</td>\n",
       "    </tr>\n",
       "    <tr>\n",
       "      <th>4</th>\n",
       "      <td>2017-06-04 07:59:42</td>\n",
       "      <td>7</td>\n",
       "      <td>718</td>\n",
       "      <td>2019</td>\n",
       "    </tr>\n",
       "  </tbody>\n",
       "</table>\n",
       "</div>"
      ],
      "text/plain": [
       "             timestamp  municipality_id  usage  total_capacity\n",
       "0  2017-06-04 07:59:42  9                454    1332          \n",
       "1  2017-06-04 07:59:42  8                556    2947          \n",
       "2  2017-06-04 07:59:42  4                1090   3893          \n",
       "3  2017-06-04 07:59:42  0                204    2813          \n",
       "4  2017-06-04 07:59:42  7                718    2019          "
      ]
     },
     "execution_count": 2,
     "metadata": {},
     "output_type": "execute_result"
    }
   ],
   "source": [
    "data = pd.read_csv('municipality_bus_utilization.csv')\n",
    "print ('\\n Data Types:')\n",
    "print (data.dtypes)\n",
    "data.head()"
   ]
  },
  {
   "cell_type": "raw",
   "id": "662001b6-d0d1-449c-a7dd-d60c91db6cd3",
   "metadata": {},
   "source": [
    "# timestamp is object, we convert to time series and extract date (year-month-day), week, and hour"
   ]
  },
  {
   "cell_type": "code",
   "execution_count": 3,
   "id": "5fdc6ca5-5554-4610-aef2-a8cce65d0e2b",
   "metadata": {},
   "outputs": [
    {
     "name": "stdout",
     "output_type": "stream",
     "text": [
      "\n",
      " Data Types:\n",
      "timestamp          datetime64[ns]\n",
      "municipality_id    int64         \n",
      "usage              int64         \n",
      "total_capacity     int64         \n",
      "YMD                object        \n",
      "Week               int64         \n",
      "hour               int64         \n",
      "dtype: object\n"
     ]
    },
    {
     "data": {
      "text/html": [
       "<div>\n",
       "<style scoped>\n",
       "    .dataframe tbody tr th:only-of-type {\n",
       "        vertical-align: middle;\n",
       "    }\n",
       "\n",
       "    .dataframe tbody tr th {\n",
       "        vertical-align: top;\n",
       "    }\n",
       "\n",
       "    .dataframe thead th {\n",
       "        text-align: right;\n",
       "    }\n",
       "</style>\n",
       "<table border=\"1\" class=\"dataframe\">\n",
       "  <thead>\n",
       "    <tr style=\"text-align: right;\">\n",
       "      <th></th>\n",
       "      <th>timestamp</th>\n",
       "      <th>municipality_id</th>\n",
       "      <th>usage</th>\n",
       "      <th>total_capacity</th>\n",
       "      <th>YMD</th>\n",
       "      <th>Week</th>\n",
       "      <th>hour</th>\n",
       "    </tr>\n",
       "  </thead>\n",
       "  <tbody>\n",
       "    <tr>\n",
       "      <th>0</th>\n",
       "      <td>2017-06-04 07:59:42</td>\n",
       "      <td>9</td>\n",
       "      <td>454</td>\n",
       "      <td>1332</td>\n",
       "      <td>2017-06-04</td>\n",
       "      <td>22</td>\n",
       "      <td>7</td>\n",
       "    </tr>\n",
       "    <tr>\n",
       "      <th>1</th>\n",
       "      <td>2017-06-04 07:59:42</td>\n",
       "      <td>8</td>\n",
       "      <td>556</td>\n",
       "      <td>2947</td>\n",
       "      <td>2017-06-04</td>\n",
       "      <td>22</td>\n",
       "      <td>7</td>\n",
       "    </tr>\n",
       "    <tr>\n",
       "      <th>2</th>\n",
       "      <td>2017-06-04 07:59:42</td>\n",
       "      <td>4</td>\n",
       "      <td>1090</td>\n",
       "      <td>3893</td>\n",
       "      <td>2017-06-04</td>\n",
       "      <td>22</td>\n",
       "      <td>7</td>\n",
       "    </tr>\n",
       "    <tr>\n",
       "      <th>3</th>\n",
       "      <td>2017-06-04 07:59:42</td>\n",
       "      <td>0</td>\n",
       "      <td>204</td>\n",
       "      <td>2813</td>\n",
       "      <td>2017-06-04</td>\n",
       "      <td>22</td>\n",
       "      <td>7</td>\n",
       "    </tr>\n",
       "    <tr>\n",
       "      <th>4</th>\n",
       "      <td>2017-06-04 07:59:42</td>\n",
       "      <td>7</td>\n",
       "      <td>718</td>\n",
       "      <td>2019</td>\n",
       "      <td>2017-06-04</td>\n",
       "      <td>22</td>\n",
       "      <td>7</td>\n",
       "    </tr>\n",
       "  </tbody>\n",
       "</table>\n",
       "</div>"
      ],
      "text/plain": [
       "            timestamp  municipality_id  usage  total_capacity         YMD  \\\n",
       "0 2017-06-04 07:59:42  9                454    1332            2017-06-04   \n",
       "1 2017-06-04 07:59:42  8                556    2947            2017-06-04   \n",
       "2 2017-06-04 07:59:42  4                1090   3893            2017-06-04   \n",
       "3 2017-06-04 07:59:42  0                204    2813            2017-06-04   \n",
       "4 2017-06-04 07:59:42  7                718    2019            2017-06-04   \n",
       "\n",
       "   Week  hour  \n",
       "0  22    7     \n",
       "1  22    7     \n",
       "2  22    7     \n",
       "3  22    7     \n",
       "4  22    7     "
      ]
     },
     "execution_count": 3,
     "metadata": {},
     "output_type": "execute_result"
    }
   ],
   "source": [
    "from datetime import datetime\n",
    "data['timestamp']=pd.to_datetime(data['timestamp'])\n",
    "data['YMD']=data['timestamp'].dt.date\n",
    "data['Week']=data['timestamp'].dt.week\n",
    "data['hour']=data['timestamp'].dt.hour\n",
    "print ('\\n Data Types:')\n",
    "print (data.dtypes)\n",
    "data.head()"
   ]
  },
  {
   "cell_type": "code",
   "execution_count": null,
   "id": "65fa30a5-ce64-42dc-bd26-896d3c276b8b",
   "metadata": {},
   "outputs": [],
   "source": [
    "# it is seen that YMD is again object change to datatime "
   ]
  },
  {
   "cell_type": "code",
   "execution_count": 4,
   "id": "b9a2b510-c2fa-4119-93f9-862ba55feede",
   "metadata": {},
   "outputs": [
    {
     "name": "stdout",
     "output_type": "stream",
     "text": [
      "\n",
      " Data Types:\n",
      "timestamp          datetime64[ns]\n",
      "municipality_id    int64         \n",
      "usage              int64         \n",
      "total_capacity     int64         \n",
      "YMD                datetime64[ns]\n",
      "Week               int64         \n",
      "hour               int64         \n",
      "dtype: object\n"
     ]
    }
   ],
   "source": [
    "data['YMD']=pd.to_datetime(data['YMD'])\n",
    "print ('\\n Data Types:')\n",
    "print (data.dtypes)"
   ]
  },
  {
   "cell_type": "raw",
   "id": "2e0e7a5e-dda7-4a7e-90ea-17b2aac1544d",
   "metadata": {},
   "source": [
    "# Now we can drop timestamp"
   ]
  },
  {
   "cell_type": "code",
   "execution_count": 5,
   "id": "ecd72aa0-5a05-40f6-9d30-6d2e3c314e4c",
   "metadata": {},
   "outputs": [
    {
     "data": {
      "text/html": [
       "<div>\n",
       "<style scoped>\n",
       "    .dataframe tbody tr th:only-of-type {\n",
       "        vertical-align: middle;\n",
       "    }\n",
       "\n",
       "    .dataframe tbody tr th {\n",
       "        vertical-align: top;\n",
       "    }\n",
       "\n",
       "    .dataframe thead th {\n",
       "        text-align: right;\n",
       "    }\n",
       "</style>\n",
       "<table border=\"1\" class=\"dataframe\">\n",
       "  <thead>\n",
       "    <tr style=\"text-align: right;\">\n",
       "      <th></th>\n",
       "      <th>municipality_id</th>\n",
       "      <th>usage</th>\n",
       "      <th>total_capacity</th>\n",
       "      <th>YMD</th>\n",
       "      <th>Week</th>\n",
       "      <th>hour</th>\n",
       "    </tr>\n",
       "  </thead>\n",
       "  <tbody>\n",
       "    <tr>\n",
       "      <th>0</th>\n",
       "      <td>9</td>\n",
       "      <td>454</td>\n",
       "      <td>1332</td>\n",
       "      <td>2017-06-04</td>\n",
       "      <td>22</td>\n",
       "      <td>7</td>\n",
       "    </tr>\n",
       "    <tr>\n",
       "      <th>1</th>\n",
       "      <td>8</td>\n",
       "      <td>556</td>\n",
       "      <td>2947</td>\n",
       "      <td>2017-06-04</td>\n",
       "      <td>22</td>\n",
       "      <td>7</td>\n",
       "    </tr>\n",
       "    <tr>\n",
       "      <th>2</th>\n",
       "      <td>4</td>\n",
       "      <td>1090</td>\n",
       "      <td>3893</td>\n",
       "      <td>2017-06-04</td>\n",
       "      <td>22</td>\n",
       "      <td>7</td>\n",
       "    </tr>\n",
       "    <tr>\n",
       "      <th>3</th>\n",
       "      <td>0</td>\n",
       "      <td>204</td>\n",
       "      <td>2813</td>\n",
       "      <td>2017-06-04</td>\n",
       "      <td>22</td>\n",
       "      <td>7</td>\n",
       "    </tr>\n",
       "    <tr>\n",
       "      <th>4</th>\n",
       "      <td>7</td>\n",
       "      <td>718</td>\n",
       "      <td>2019</td>\n",
       "      <td>2017-06-04</td>\n",
       "      <td>22</td>\n",
       "      <td>7</td>\n",
       "    </tr>\n",
       "  </tbody>\n",
       "</table>\n",
       "</div>"
      ],
      "text/plain": [
       "   municipality_id  usage  total_capacity        YMD  Week  hour\n",
       "0  9                454    1332           2017-06-04  22    7   \n",
       "1  8                556    2947           2017-06-04  22    7   \n",
       "2  4                1090   3893           2017-06-04  22    7   \n",
       "3  0                204    2813           2017-06-04  22    7   \n",
       "4  7                718    2019           2017-06-04  22    7   "
      ]
     },
     "execution_count": 5,
     "metadata": {},
     "output_type": "execute_result"
    }
   ],
   "source": [
    "data.drop(['timestamp'],axis=1,inplace=True)\n",
    "data.head()"
   ]
  },
  {
   "cell_type": "markdown",
   "id": "dc633943-55d8-4153-98fd-6c0f72d5e587",
   "metadata": {},
   "source": [
    "# check data "
   ]
  },
  {
   "cell_type": "code",
   "execution_count": 6,
   "id": "4493af98-3ae6-4676-8f9d-f8d2541e7013",
   "metadata": {},
   "outputs": [
    {
     "name": "stdout",
     "output_type": "stream",
     "text": [
      "Rows: 13070 \tColumns: 6\n"
     ]
    }
   ],
   "source": [
    "print (\"Rows:\", data.shape[0], \"\\tColumns:\", data.shape[1]) # printing Rows & Columns numbers"
   ]
  },
  {
   "cell_type": "code",
   "execution_count": 7,
   "id": "40ab7876-b66d-4248-ae6a-3cf06474a034",
   "metadata": {},
   "outputs": [
    {
     "name": "stdout",
     "output_type": "stream",
     "text": [
      "Features : \n",
      " ['municipality_id', 'usage', 'total_capacity', 'YMD', 'Week', 'hour']\n"
     ]
    }
   ],
   "source": [
    "print (\"Features : \\n\" ,data.columns.tolist()) # Printing name of features"
   ]
  },
  {
   "cell_type": "code",
   "execution_count": 8,
   "id": "0bedc82e-275c-406d-af37-60ff181e5b9f",
   "metadata": {},
   "outputs": [
    {
     "name": "stdout",
     "output_type": "stream",
     "text": [
      "Missing values :   municipality_id    0\n",
      "usage              0\n",
      "total_capacity     0\n",
      "YMD                0\n",
      "Week               0\n",
      "hour               0\n",
      "dtype: int64\n"
     ]
    }
   ],
   "source": [
    "print (\"Missing values :  \", data.isnull().sum()) # Checking missing values"
   ]
  },
  {
   "cell_type": "code",
   "execution_count": 9,
   "id": "66ebd4fc-e43f-42fc-8a95-fa4d26e9d106",
   "metadata": {},
   "outputs": [
    {
     "name": "stdout",
     "output_type": "stream",
     "text": [
      "\n",
      "Unique values :  \n",
      " municipality_id    10  \n",
      "usage              2346\n",
      "total_capacity     10  \n",
      "YMD                72  \n",
      "Week               12  \n",
      "hour               10  \n",
      "dtype: int64\n"
     ]
    }
   ],
   "source": [
    "print (\"\\nUnique values :  \\n\",data.nunique()) # Unique values in each columns"
   ]
  },
  {
   "cell_type": "code",
   "execution_count": 10,
   "id": "11b7df53-045c-45be-b495-977b1cf3a7af",
   "metadata": {},
   "outputs": [
    {
     "data": {
      "text/plain": [
       "0"
      ]
     },
     "execution_count": 10,
     "metadata": {},
     "output_type": "execute_result"
    }
   ],
   "source": [
    "(data['usage']==int(0)).sum()"
   ]
  },
  {
   "cell_type": "code",
   "execution_count": 11,
   "id": "b9d3cdc9-b01c-4a0e-8e5f-2c9f0b92bd3d",
   "metadata": {},
   "outputs": [
    {
     "data": {
      "text/html": [
       "<div>\n",
       "<style scoped>\n",
       "    .dataframe tbody tr th:only-of-type {\n",
       "        vertical-align: middle;\n",
       "    }\n",
       "\n",
       "    .dataframe tbody tr th {\n",
       "        vertical-align: top;\n",
       "    }\n",
       "\n",
       "    .dataframe thead th {\n",
       "        text-align: right;\n",
       "    }\n",
       "</style>\n",
       "<table border=\"1\" class=\"dataframe\">\n",
       "  <thead>\n",
       "    <tr style=\"text-align: right;\">\n",
       "      <th></th>\n",
       "      <th>municipality_id</th>\n",
       "      <th>usage</th>\n",
       "      <th>total_capacity</th>\n",
       "      <th>YMD</th>\n",
       "      <th>Week</th>\n",
       "      <th>hour</th>\n",
       "    </tr>\n",
       "  </thead>\n",
       "  <tbody>\n",
       "    <tr>\n",
       "      <th>0</th>\n",
       "      <td>9</td>\n",
       "      <td>454</td>\n",
       "      <td>1332</td>\n",
       "      <td>2017-06-04</td>\n",
       "      <td>22</td>\n",
       "      <td>7</td>\n",
       "    </tr>\n",
       "    <tr>\n",
       "      <th>1</th>\n",
       "      <td>8</td>\n",
       "      <td>556</td>\n",
       "      <td>2947</td>\n",
       "      <td>2017-06-04</td>\n",
       "      <td>22</td>\n",
       "      <td>7</td>\n",
       "    </tr>\n",
       "    <tr>\n",
       "      <th>2</th>\n",
       "      <td>4</td>\n",
       "      <td>1090</td>\n",
       "      <td>3893</td>\n",
       "      <td>2017-06-04</td>\n",
       "      <td>22</td>\n",
       "      <td>7</td>\n",
       "    </tr>\n",
       "    <tr>\n",
       "      <th>3</th>\n",
       "      <td>0</td>\n",
       "      <td>204</td>\n",
       "      <td>2813</td>\n",
       "      <td>2017-06-04</td>\n",
       "      <td>22</td>\n",
       "      <td>7</td>\n",
       "    </tr>\n",
       "    <tr>\n",
       "      <th>4</th>\n",
       "      <td>7</td>\n",
       "      <td>718</td>\n",
       "      <td>2019</td>\n",
       "      <td>2017-06-04</td>\n",
       "      <td>22</td>\n",
       "      <td>7</td>\n",
       "    </tr>\n",
       "  </tbody>\n",
       "</table>\n",
       "</div>"
      ],
      "text/plain": [
       "   municipality_id  usage  total_capacity        YMD  Week  hour\n",
       "0  9                454    1332           2017-06-04  22    7   \n",
       "1  8                556    2947           2017-06-04  22    7   \n",
       "2  4                1090   3893           2017-06-04  22    7   \n",
       "3  0                204    2813           2017-06-04  22    7   \n",
       "4  7                718    2019           2017-06-04  22    7   "
      ]
     },
     "execution_count": 11,
     "metadata": {},
     "output_type": "execute_result"
    }
   ],
   "source": [
    "data.head()"
   ]
  },
  {
   "cell_type": "code",
   "execution_count": 12,
   "id": "d5c8f241-0eb5-4944-b3a9-fcc96662d37e",
   "metadata": {},
   "outputs": [],
   "source": [
    "data.set_index('YMD', inplace=True)\n",
    "#check datatype of index\n",
    "#data.index"
   ]
  },
  {
   "cell_type": "code",
   "execution_count": 13,
   "id": "fd85277d-7f6a-4fe7-827b-0359f2ff0aef",
   "metadata": {},
   "outputs": [
    {
     "data": {
      "text/html": [
       "<div>\n",
       "<style scoped>\n",
       "    .dataframe tbody tr th:only-of-type {\n",
       "        vertical-align: middle;\n",
       "    }\n",
       "\n",
       "    .dataframe tbody tr th {\n",
       "        vertical-align: top;\n",
       "    }\n",
       "\n",
       "    .dataframe thead th {\n",
       "        text-align: right;\n",
       "    }\n",
       "</style>\n",
       "<table border=\"1\" class=\"dataframe\">\n",
       "  <thead>\n",
       "    <tr style=\"text-align: right;\">\n",
       "      <th></th>\n",
       "      <th>municipality_id</th>\n",
       "      <th>usage</th>\n",
       "      <th>total_capacity</th>\n",
       "      <th>Week</th>\n",
       "      <th>hour</th>\n",
       "    </tr>\n",
       "    <tr>\n",
       "      <th>YMD</th>\n",
       "      <th></th>\n",
       "      <th></th>\n",
       "      <th></th>\n",
       "      <th></th>\n",
       "      <th></th>\n",
       "    </tr>\n",
       "  </thead>\n",
       "  <tbody>\n",
       "    <tr>\n",
       "      <th>2017-06-04</th>\n",
       "      <td>9</td>\n",
       "      <td>454</td>\n",
       "      <td>1332</td>\n",
       "      <td>22</td>\n",
       "      <td>7</td>\n",
       "    </tr>\n",
       "    <tr>\n",
       "      <th>2017-06-04</th>\n",
       "      <td>8</td>\n",
       "      <td>556</td>\n",
       "      <td>2947</td>\n",
       "      <td>22</td>\n",
       "      <td>7</td>\n",
       "    </tr>\n",
       "    <tr>\n",
       "      <th>2017-06-04</th>\n",
       "      <td>4</td>\n",
       "      <td>1090</td>\n",
       "      <td>3893</td>\n",
       "      <td>22</td>\n",
       "      <td>7</td>\n",
       "    </tr>\n",
       "    <tr>\n",
       "      <th>2017-06-04</th>\n",
       "      <td>0</td>\n",
       "      <td>204</td>\n",
       "      <td>2813</td>\n",
       "      <td>22</td>\n",
       "      <td>7</td>\n",
       "    </tr>\n",
       "    <tr>\n",
       "      <th>2017-06-04</th>\n",
       "      <td>7</td>\n",
       "      <td>718</td>\n",
       "      <td>2019</td>\n",
       "      <td>22</td>\n",
       "      <td>7</td>\n",
       "    </tr>\n",
       "  </tbody>\n",
       "</table>\n",
       "</div>"
      ],
      "text/plain": [
       "            municipality_id  usage  total_capacity  Week  hour\n",
       "YMD                                                           \n",
       "2017-06-04  9                454    1332            22    7   \n",
       "2017-06-04  8                556    2947            22    7   \n",
       "2017-06-04  4                1090   3893            22    7   \n",
       "2017-06-04  0                204    2813            22    7   \n",
       "2017-06-04  7                718    2019            22    7   "
      ]
     },
     "execution_count": 13,
     "metadata": {},
     "output_type": "execute_result"
    }
   ],
   "source": [
    "data.head()"
   ]
  },
  {
   "cell_type": "markdown",
   "id": "108ba25a-a55c-4b4d-9357-682aa1ce133e",
   "metadata": {},
   "source": [
    "# group by 'YMD','hour','municipality_id'"
   ]
  },
  {
   "cell_type": "code",
   "execution_count": 14,
   "id": "9afa0c89-e5c8-485c-8209-3e0c3a51ee5a",
   "metadata": {},
   "outputs": [
    {
     "name": "stdout",
     "output_type": "stream",
     "text": [
      "\n",
      " Data Types:\n",
      "YMD                datetime64[ns]\n",
      "hour               int64         \n",
      "municipality_id    int64         \n",
      "Maximum            int64         \n",
      "dtype: object\n",
      "Rows: 6740 \tColumns: 4\n"
     ]
    },
    {
     "data": {
      "text/html": [
       "<div>\n",
       "<style scoped>\n",
       "    .dataframe tbody tr th:only-of-type {\n",
       "        vertical-align: middle;\n",
       "    }\n",
       "\n",
       "    .dataframe tbody tr th {\n",
       "        vertical-align: top;\n",
       "    }\n",
       "\n",
       "    .dataframe thead th {\n",
       "        text-align: right;\n",
       "    }\n",
       "</style>\n",
       "<table border=\"1\" class=\"dataframe\">\n",
       "  <thead>\n",
       "    <tr style=\"text-align: right;\">\n",
       "      <th></th>\n",
       "      <th>YMD</th>\n",
       "      <th>hour</th>\n",
       "      <th>municipality_id</th>\n",
       "      <th>Maximum</th>\n",
       "    </tr>\n",
       "  </thead>\n",
       "  <tbody>\n",
       "    <tr>\n",
       "      <th>0</th>\n",
       "      <td>2017-06-04</td>\n",
       "      <td>7</td>\n",
       "      <td>0</td>\n",
       "      <td>204</td>\n",
       "    </tr>\n",
       "    <tr>\n",
       "      <th>1</th>\n",
       "      <td>2017-06-04</td>\n",
       "      <td>7</td>\n",
       "      <td>1</td>\n",
       "      <td>129</td>\n",
       "    </tr>\n",
       "    <tr>\n",
       "      <th>2</th>\n",
       "      <td>2017-06-04</td>\n",
       "      <td>7</td>\n",
       "      <td>2</td>\n",
       "      <td>273</td>\n",
       "    </tr>\n",
       "    <tr>\n",
       "      <th>3</th>\n",
       "      <td>2017-06-04</td>\n",
       "      <td>7</td>\n",
       "      <td>3</td>\n",
       "      <td>623</td>\n",
       "    </tr>\n",
       "    <tr>\n",
       "      <th>4</th>\n",
       "      <td>2017-06-04</td>\n",
       "      <td>7</td>\n",
       "      <td>4</td>\n",
       "      <td>1090</td>\n",
       "    </tr>\n",
       "  </tbody>\n",
       "</table>\n",
       "</div>"
      ],
      "text/plain": [
       "         YMD  hour  municipality_id  Maximum\n",
       "0 2017-06-04  7     0                204    \n",
       "1 2017-06-04  7     1                129    \n",
       "2 2017-06-04  7     2                273    \n",
       "3 2017-06-04  7     3                623    \n",
       "4 2017-06-04  7     4                1090   "
      ]
     },
     "execution_count": 14,
     "metadata": {},
     "output_type": "execute_result"
    }
   ],
   "source": [
    "dataGrped=data.groupby(['YMD','hour','municipality_id'])[\"usage\"].max().reset_index(name='Maximum')\n",
    "#print(dataGrped)\n",
    "print ('\\n Data Types:')\n",
    "print (dataGrped.dtypes)\n",
    "print (\"Rows:\", dataGrped.shape[0], \"\\tColumns:\", dataGrped.shape[1]) # printing Rows & Columns numbers\n",
    "dataGrped.head()\n",
    "#grouped_single = data.groupby(['YMD','hour','municipality_id']).agg({'usage': ['min','max']})\n",
    "#print(grouped_single)"
   ]
  },
  {
   "cell_type": "markdown",
   "id": "08b81e47-761e-463a-8b44-713f89bc1a88",
   "metadata": {},
   "source": [
    "# Now the data is ready to fit on a model. "
   ]
  },
  {
   "cell_type": "code",
   "execution_count": null,
   "id": "a05a5f34-2ea6-40af-82f9-7721d9eae244",
   "metadata": {},
   "outputs": [],
   "source": []
  }
 ],
 "metadata": {
  "kernelspec": {
   "display_name": "Python 3 (ipykernel)",
   "language": "python",
   "name": "python3"
  },
  "language_info": {
   "codemirror_mode": {
    "name": "ipython",
    "version": 3
   },
   "file_extension": ".py",
   "mimetype": "text/x-python",
   "name": "python",
   "nbconvert_exporter": "python",
   "pygments_lexer": "ipython3",
   "version": "3.9.11"
  }
 },
 "nbformat": 4,
 "nbformat_minor": 5
}
